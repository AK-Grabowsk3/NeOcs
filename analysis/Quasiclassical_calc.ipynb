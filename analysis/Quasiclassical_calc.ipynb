{
 "cells": [
  {
   "cell_type": "code",
   "execution_count": 160,
   "metadata": {},
   "outputs": [],
   "source": [
    "import numpy as np\n",
    "from sympy.physics.wigner import wigner_3j\n",
    "import matplotlib.pyplot as plt\n",
    "import cmath\n",
    "from scipy.special import lpmn\n"
   ]
  },
  {
   "cell_type": "code",
   "execution_count": 170,
   "metadata": {},
   "outputs": [],
   "source": [
    "def potential( r, th, C_12, alpha, mu ):\n",
    "    return C_12 / r**12 - alpha * mu**2 / 2 / r**6 * ( 1 + 3 * np.cos(th)**2 )\n",
    "\n",
    "def get_Pleg_matrix( N, m ):\n",
    "\n",
    "    l_max = N + abs(m) - 1\n",
    "\n",
    "    x_arr, w = np.polynomial.legendre.leggauss(N)\n",
    "    \n",
    "    P_lm = np.zeros( (N,N) )\n",
    "\n",
    "    l_arr = np.arange( 0, N ) + abs(m)\n",
    "    norm = np.sqrt( (l_arr + 0.5) / np.array( [ np.prod( np.arange( l-abs(m)+1, l+abs(m)+1 ) ) for l in l_arr ] ) )\n",
    "\n",
    "    for i, x in enumerate(x_arr):\n",
    "\n",
    "        lpmn_at_x, _ = lpmn( m, l_max, x )\n",
    "\n",
    "        P_lm[i,:] = lpmn_at_x[ abs(m), abs(m): ] * norm * np.sqrt( w[i] )\n",
    "\n",
    "    if m != 0:\n",
    "\n",
    "        Q, R = np.linalg.qr( np.transpose( P_lm ) )\n",
    "\n",
    "        U = Q\n",
    "\n",
    "    else:\n",
    "        U = np.transpose( P_lm )\n",
    "\n",
    "    return U\n",
    "\n",
    "def get_laplacian_matrix( N, m ):\n",
    "\n",
    "    U = get_Pleg_matrix( N, m )\n",
    "\n",
    "    l_arr = np.arange( 0, N ) + abs(m)\n",
    "\n",
    "    L2 = np.matmul( np.matmul( np.transpose(U), np.diag( l_arr * ( l_arr + 1 ) ) ), U )\n",
    "\n",
    "    return L2\n",
    "\n",
    "def force_field( r, th, C_12, alpha, mu ):\n",
    "    F_r = - 12 * C_12 / r**13 - 6 * alpha * mu**2 / 2 / r**7 * ( 1 + 3 * np.cos( th )**2 )\n",
    "    F_th = - 3 * alpha * mu**2 / 2 / r**6 * np.sin( 2 * th )\n",
    "\n",
    "    return F_r, F_th"
   ]
  },
  {
   "cell_type": "code",
   "execution_count": 162,
   "metadata": {},
   "outputs": [],
   "source": [
    "def evolution( V, C_12, alpha, mu, m_Ne, m_HYQ, Be, l_max, m, laplacian, th_arr ):\n",
    "\n",
    "    mass = 1./( 1./m_Ne + 1./m_HYQ )\n",
    "\n",
    "    r = V[0]\n",
    "    th = V[1]\n",
    "\n",
    "    Psi = V[4:]\n",
    "\n",
    "    der_V = np.zeros_like( V )\n",
    "\n",
    "    der_V[0] = V[2] / mass\n",
    "    der_V[1] = 2 * V[3] / m_HYQ\n",
    "\n",
    "    der_V[2], der_V[3] = force_field( r, th )\n",
    "\n",
    "    der_V[4:] = - 1j * np.matmul( - laplacian * Be + np.diag( potential( r, th_arr, C_12, alpha, mu ) ), Psi )\n",
    "\n",
    "    return der_V\n"
   ]
  },
  {
   "cell_type": "code",
   "execution_count": 167,
   "metadata": {},
   "outputs": [],
   "source": [
    "N_states = 5\n",
    "omega = 0\n",
    "\n",
    "C_12 = 2.5e7\n",
    "mu = 1*2.38*0.393456\n",
    "alpha = 27.6 / 0.529177**3\n",
    "\n",
    "# Be = \n",
    "# Re = \n",
    "\n",
    "\n",
    "\n",
    "lap = get_laplacian_matrix(N_states, 0)"
   ]
  },
  {
   "cell_type": "code",
   "execution_count": 171,
   "metadata": {},
   "outputs": [
    {
     "data": {
      "text/plain": [
       "<matplotlib.colorbar.Colorbar at 0x7fc1ba156d70>"
      ]
     },
     "execution_count": 171,
     "metadata": {},
     "output_type": "execute_result"
    },
    {
     "data": {
      "image/png": "[encoded data removed]",
      "text/plain": [
       "<Figure size 640x480 with 2 Axes>"
      ]
     },
     "metadata": {},
     "output_type": "display_data"
    }
   ],
   "source": [
    "r = np.linspace( 5, 9.5 )\n",
    "th = np.linspace( 0, np.pi )\n",
    "\n",
    "r_gr, th_gr = np.meshgrid( r, th )\n",
    "\n",
    "V = potential( r_gr, th_gr, C_12, alpha, mu )\n",
    "\n",
    "plt.contourf( r_gr, th_gr, V )\n",
    "plt.colorbar()"
   ]
  }
 ],
 "metadata": {
  "kernelspec": {
   "display_name": "Python 3",
   "language": "python",
   "name": "python3"
  },
  "language_info": {
   "codemirror_mode": {
    "name": "ipython",
    "version": 3
   },
   "file_extension": ".py",
   "mimetype": "text/x-python",
   "name": "python",
   "nbconvert_exporter": "python",
   "pygments_lexer": "ipython3",
   "version": "3.10.12"
  }
 },
 "nbformat": 4,
 "nbformat_minor": 2
}
