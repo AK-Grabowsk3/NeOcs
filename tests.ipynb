{
 "cells": [
  {
   "cell_type": "code",
   "execution_count": 29,
   "metadata": {},
   "outputs": [],
   "source": [
    "import split_op as split\n",
    "import numpy as np\n",
    "from scipy.special import roots_legendre, lpmv\n",
    "from tqdm import tqdm\n",
    "\n",
    "\n",
    "from potential import load_potential\n",
    "\n",
    "data_path = \"data/\"\n",
    "\n",
    "KELVIN = 3.1668105e-6\n",
    "U = 1822.88839\n",
    "\n",
    "def centrifugal(r_points, j_tot: int, omega: int, mass_u: float):\n",
    "    return (j_tot * (j_tot + 1) - 2 * omega * omega) / (2 * mass_u * U * np.power(r_points, 2)) "
   ]
  },
  {
   "cell_type": "code",
   "execution_count": 30,
   "metadata": {},
   "outputs": [],
   "source": [
    "from typing import Callable\n",
    "\n",
    "def prepare(j_init: int, \n",
    "    omega_init: int, \n",
    "    j_tot: int, \n",
    "    time_step: float = 400, \n",
    "    steps_no: float = 360, \n",
    "    r_start: float = 50 / 1024, \n",
    "    r_end: float = 50, \n",
    "    r_no: int = 1024, \n",
    "    polar_no: int = 160, \n",
    "    mass_u: float = 15.1052848671,\n",
    "    energy_kelvin: float = 3700, \n",
    "    rot_const = 9.243165268327e-7,\n",
    "    wave_r0: float = 30,\n",
    "    wave_r_sigma: float = 0.6,\n",
    "    animation: bool = False,\n",
    "    frames: int = 60,\n",
    "    wave_prefix: str = \"standard\",\n",
    "    potential_path = \"potentials/\",\n",
    "    transform_xpi: Callable[[float, float], float] = None,\n",
    "    transform_bsigma: Callable[[float, float], float] = None,\n",
    "    transform_api: Callable[[float, float], float] = None,\n",
    "    transform_potential: Callable[[float, float], float] = None,\n",
    ") -> split.Propagation:\n",
    "    \"\"\"\n",
    "    Prepares the split operator propagation of the Ne OCS problem.\n",
    "\n",
    "    :j_init: initial angular momentum of the OCS molecule\n",
    "    :omega_init: initial body fixed projection of the OCS angular momentum equal to projection of the total angular momentum\n",
    "    :j_tot: total angular momentum of the system\n",
    "    :time_step: time step in the Hartree units of the propagation step\n",
    "    :steps_no: number of steps in the propagation\n",
    "    :r_start: starting value of the radial grid\n",
    "    :r_end: ending value of the radial grid\n",
    "    :r_no: number of points of the radial grid\n",
    "    :polar_no: number of points of the angular grid\n",
    "    :mass_u: reduced mass of the Ne OCS in u units\n",
    "    :energy_kelvin: energy of the collision in Kelvin units\n",
    "    :rot_const: rotational constant of the OCS molecule in Hartree units\n",
    "    :wave_r0: initial radial position of the wave funciton\n",
    "    :wave_r_sigma: initial radial width of the wave funciton\n",
    "    :animation: whether to save animations of the wave function\n",
    "    :frames: number of frames of the animation\n",
    "    :wave_prefix: prefix of the wave animation filename to be saved\n",
    "    :wave_legendre_prefix: prefix of the wave animation in the legendre basis filename to be saved\n",
    "    :potential_path: path to the potential data\n",
    "    :transform_xpi: custom transformation to the XPi gamma potential\n",
    "    :transform_bsigma: custom transformation to the BSigma gamma potential\n",
    "    :transform_api: custom transformation to the APi gamma potential\n",
    "    :transform_potential: custom transformation to the interatomic potential\n",
    "    \"\"\"\n",
    "\n",
    "    assert j_tot >= omega_init\n",
    "    assert j_init >= omega_init\n",
    "\n",
    "    ############################ grids, wave function creation ################################\n",
    "    \n",
    "    time_grid = split.TimeGrid(time_step, steps_no)\n",
    "    r_grid = split.Grid.linear_continuos(\"r\", r_start, r_end, r_no, 0)\n",
    "    \n",
    "    polar_points, weights = roots_legendre(polar_no)\n",
    "    polar_points = np.flip(np.arccos(polar_points))\n",
    "    weights = np.flip(weights)\n",
    "    \n",
    "    polar_grid = split.Grid.custom(\"theta\", polar_points, weights, 1)\n",
    "\n",
    "    r_points = np.array(r_grid.points())\n",
    "    momentum = np.sqrt(2 * mass_u * U * energy_kelvin * KELVIN)\n",
    "\n",
    "    wave_r_init = np.array([split.gaussian_distribution(r_points[i], wave_r0, wave_r_sigma, momentum) for i in range(r_no)])\n",
    "    wave_polar_init = lpmv(omega_init, j_init, np.cos(polar_points))\n",
    "\n",
    "    wave_init = np.outer(wave_r_init, wave_polar_init)\n",
    "    wave_function = split.WaveFunction(wave_init.flatten(), [r_grid, polar_grid])\n",
    "\n",
    "    ############################ operation creation ################################\n",
    "\n",
    "    r_mesh, polar_mesh = np.meshgrid(r_points, polar_points)\n",
    "\n",
    "    potential = load_potential(potential_path, \"potential.dat\", r_grid, polar_grid, 5, 5, False)\n",
    "    if transform_potential is not None:\n",
    "        potential = np.multiply(potential, transform_potential(r_mesh, polar_mesh))\n",
    "\n",
    "    centrifugal_potential = centrifugal(r_points, j_tot, omega_init, mass_u)\n",
    "    centrifugal_potential = np.broadcast_to(np.expand_dims(centrifugal_potential, 1), (r_no, polar_no))\n",
    "\n",
    "    bsigma_gamma = load_potential(potential_path, \"BSigma_gamma.dat\", r_grid, polar_grid, 5, 5, True)\n",
    "    if transform_bsigma is not None:\n",
    "        bsigma_gamma = np.multiply(bsigma_gamma, transform_bsigma(r_mesh, polar_mesh))\n",
    "\n",
    "    api_gamma = load_potential(potential_path, \"APi_gamma.dat\", r_grid, polar_grid, 5, 5, True)\n",
    "    if transform_api is not None:\n",
    "        api_gamma = np.multiply(api_gamma, transform_api(r_mesh, polar_mesh))\n",
    "\n",
    "    potential = potential + centrifugal_potential + complex(0, -0.5) * (bsigma_gamma + api_gamma)\n",
    "    potential_with_bsigma_prop = split.complex_n_dim_into_propagator(potential.shape, potential.flatten(), time_grid)\n",
    "    potential_with_bsigma_prop.set_loss_checked(split.LossChecker(\"bsigma\"))\n",
    "\n",
    "    xpi_gamma = load_potential(potential_path, \"XPi_gamma.dat\", r_grid, polar_grid, 5, 3, True)\n",
    "    if transform_xpi is not None:\n",
    "        xpi_gamma = np.multiply(xpi_gamma, transform_xpi(r_mesh, polar_mesh))\n",
    "\n",
    "    xpi_gamma = complex(0, -0.5) * xpi_gamma\n",
    "    xpi_gamma_prop = split.complex_n_dim_into_propagator(xpi_gamma.shape, xpi_gamma.flatten(), time_grid)\n",
    "    xpi_gamma_prop.set_loss_checked(split.LossChecker(\"xpi\"))\n",
    "\n",
    "    leak_control = split.LeakControl(split.LossChecker(\"leak control\"))\n",
    "    dumping_border = split.BorderDumping(5., 1., r_grid)\n",
    "\n",
    "    angular_transformation = split.legendre_transformation(polar_grid)\n",
    "\n",
    "    shape, angular_kinetic_op = split.rotational_hamiltonian(r_grid, polar_grid, mass_u, rot_const)\n",
    "    angular_prop = split.n_dim_into_propagator(shape, angular_kinetic_op, time_grid)\n",
    "\n",
    "    fft_transformation = split.FFTTransformation(r_grid, \"r momentum\")\n",
    "\n",
    "    kinetic_op = split.kinetic_hamiltonian(r_grid, mass_u, energy_kelvin)\n",
    "    kinetic_prop = split.one_dim_into_propagator(kinetic_op, r_grid, time_grid, step = \"full\")\n",
    "\n",
    "    ################################ populating operation stack ####################################\n",
    "\n",
    "    operation_stack = split.OperationStack()\n",
    "    potential_with_bsigma_prop.add_operation(operation_stack)\n",
    "    xpi_gamma_prop.add_operation(operation_stack)\n",
    "\n",
    "    if animation:\n",
    "        wave_saver = split.WaveFunctionSaver(data_path, f\"{wave_prefix}_wave_animation\", time_grid, r_grid, polar_grid, frames)\n",
    "        wave_saver.add_operation(operation_stack)\n",
    "\n",
    "    dumping_border.add_operation(operation_stack)\n",
    "    leak_control.add_operation(operation_stack)\n",
    "\n",
    "    angular_transformation.add_operation(operation_stack, True)\n",
    "\n",
    "    if animation:\n",
    "        angular_grid = angular_transformation.transformed_grid()\n",
    "        wave_legendre_saver = split.StateSaver(data_path, f\"{wave_prefix}_angular_animation\", time_grid, angular_grid, frames)\n",
    "        wave_legendre_saver.add_operation(operation_stack)\n",
    "\n",
    "    angular_prop.add_operation(operation_stack)\n",
    "\n",
    "    fft_transformation.add_operation(operation_stack, True)\n",
    "    kinetic_prop.add_operation(operation_stack)\n",
    "\n",
    "    ################################ propagation creation ####################################\n",
    "\n",
    "    propagation = split.Propagation()\n",
    "    propagation.set_wave_function(wave_function)\n",
    "    propagation.set_time_grid(time_grid)\n",
    "    propagation.set_operation_stack(operation_stack)\n",
    "\n",
    "    return propagation\n",
    "\n",
    "class CumulativeLosses:\n",
    "    def __init__(self, j_init: int, energy_kelvin: float = 3700) -> None:\n",
    "        self.bsigma_losses = []\n",
    "        self.xpi_losses = []\n",
    "\n",
    "        self.j_totals = [j_init + np.ceil(i * 5.5 * np.sqrt(energy_kelvin / 2000)) for i in range(50)]\n",
    "    \n",
    "    def extract_loss(self, propagation: split.Propagation) -> None:\n",
    "        losses = propagation.get_losses()\n",
    "\n",
    "        self.bsigma_losses.append(losses[0])\n",
    "        self.xpi_losses.append(losses[1])\n",
    "\n",
    "    def save_losses(self, filename: str) -> None:\n",
    "        combined = np.vstack((self.j_totals, self.bsigma_losses, self.xpi_losses)).transpose()\n",
    "        np.savetxt(f\"{data_path}{filename}.dat\", combined, delimiter=\" \", header=\"j_total\\tbsigma_loss\\txpi_loss\")"
   ]
  },
  {
   "cell_type": "markdown",
   "metadata": {},
   "source": [
    "# Animations"
   ]
  },
  {
   "cell_type": "code",
   "execution_count": 4,
   "metadata": {},
   "outputs": [
    {
     "name": "stdout",
     "output_type": "stream",
     "text": [
      "[0.4647287667794322, 0.19602354128894028]\n"
     ]
    }
   ],
   "source": [
    "print(\"j init: 0, omega init: 0, j_tot: 150\")\n",
    "propagation = prepare(0, 0, 150, animation=True) # time step as if was halfed as oposed to the implementation in rust ?\n",
    "\n",
    "propagation.propagate()\n",
    "print(propagation.get_losses())\n",
    "propagation.save_savers()"
   ]
  },
  {
   "cell_type": "code",
   "execution_count": 5,
   "metadata": {},
   "outputs": [
    {
     "name": "stdout",
     "output_type": "stream",
     "text": [
      "[0.4944627253054539, 0.2023044273100963]\n"
     ]
    }
   ],
   "source": [
    "print(\"j init: 0, omega init: 0, j_tot: 150\")\n",
    "propagation = prepare(0, 0, 150, animation=True, rot_const=9.243165268327e-9, wave_prefix=\"small_rot_scaling\")\n",
    "\n",
    "propagation.propagate()\n",
    "print(propagation.get_losses())\n",
    "propagation.save_savers()"
   ]
  },
  {
   "cell_type": "code",
   "execution_count": 6,
   "metadata": {},
   "outputs": [
    {
     "name": "stdout",
     "output_type": "stream",
     "text": [
      "[0.47047267929405034, 0.1857722951025123]\n"
     ]
    }
   ],
   "source": [
    "print(\"j init: 0, omega init: 0, j_tot: 150\")\n",
    "propagation = prepare(0, 0, 150, animation=True, rot_const=9.243165268327e-5, wave_prefix=\"big_rot_scaling\")\n",
    "\n",
    "propagation.propagate()\n",
    "print(propagation.get_losses())\n",
    "propagation.save_savers()"
   ]
  },
  {
   "cell_type": "markdown",
   "metadata": {},
   "source": [
    "# Single losses"
   ]
  },
  {
   "cell_type": "code",
   "execution_count": 10,
   "metadata": {},
   "outputs": [
    {
     "name": "stdout",
     "output_type": "stream",
     "text": [
      "j init: 0 omega init: 0 j total: 150\n",
      "[0.4647287667794322, 0.19602354128894028]\n",
      "j init: 1 omega init: 0 j total: 150\n",
      "[0.5148534748051525, 0.17456010613315387]\n",
      "j init: 1 omega init: 1 j total: 150\n",
      "[0.4400325245720494, 0.20649488661234802]\n"
     ]
    }
   ],
   "source": [
    "print(\"j init: 0, omega init: 0, j_tot: 150\")\n",
    "propagation = prepare(0, 0, 150)\n",
    "propagation.propagate()\n",
    "print(propagation.get_losses())\n",
    "\n",
    "print(\"j init: 1, omega init: 0, j_tot: 150\")\n",
    "propagation = prepare(1, 0, 150)\n",
    "propagation.propagate()\n",
    "print(propagation.get_losses())\n",
    "\n",
    "print(\"j init: 1, omega init: 1, j_tot: 150\")\n",
    "propagation = prepare(1, 1, 150)\n",
    "propagation.propagate()\n",
    "print(propagation.get_losses())"
   ]
  },
  {
   "cell_type": "markdown",
   "metadata": {},
   "source": [
    "# Single cross sections"
   ]
  },
  {
   "cell_type": "code",
   "execution_count": 33,
   "metadata": {},
   "outputs": [
    {
     "name": "stderr",
     "output_type": "stream",
     "text": [
      "100%|██████████| 50/50 [01:29<00:00,  1.78s/it]\n"
     ]
    }
   ],
   "source": [
    "j_init = 0\n",
    "omega_init = 0\n",
    "energy_kelvin = 3700\n",
    "losses = CumulativeLosses(j_init, energy_kelvin)\n",
    "\n",
    "for j_tot in tqdm(losses.j_totals):\n",
    "    propagation = prepare(j_init, omega_init, j_tot, energy_kelvin=energy_kelvin)\n",
    "    propagation.propagate()\n",
    "    losses.extract_loss(propagation)\n",
    "losses.save_losses(f\"losses_{energy_kelvin}_{j_init}_{omega_init}\")"
   ]
  },
  {
   "cell_type": "code",
   "execution_count": null,
   "metadata": {},
   "outputs": [],
   "source": [
    "j_init = 1\n",
    "omega_init = 0\n",
    "energy_kelvin = 3700\n",
    "losses = CumulativeLosses(j_init, energy_kelvin)\n",
    "\n",
    "for j_tot in tqdm(losses.j_totals):\n",
    "    propagation = prepare(j_init, omega_init, j_tot, energy_kelvin=energy_kelvin)\n",
    "    propagation.propagate()\n",
    "    losses.extract_loss(propagation)\n",
    "losses.save_losses(f\"losses_{energy_kelvin}_{j_init}_{omega_init}\")"
   ]
  },
  {
   "cell_type": "code",
   "execution_count": null,
   "metadata": {},
   "outputs": [],
   "source": [
    "j_init = 1\n",
    "omega_init = 1\n",
    "energy_kelvin = 3700\n",
    "losses = CumulativeLosses(j_init, energy_kelvin)\n",
    "\n",
    "for j_tot in tqdm(losses.j_totals):\n",
    "    propagation = prepare(j_init, omega_init, j_tot, energy_kelvin=energy_kelvin)\n",
    "    propagation.propagate()\n",
    "    losses.extract_loss(propagation)\n",
    "losses.save_losses(f\"losses_{energy_kelvin}_{j_init}_{omega_init}\")"
   ]
  },
  {
   "cell_type": "markdown",
   "metadata": {},
   "source": [
    "# Cross sections - energy dependence "
   ]
  },
  {
   "cell_type": "code",
   "execution_count": 34,
   "metadata": {},
   "outputs": [],
   "source": [
    "energies = [100, 500, 1000, 1500, 2000, 2500, 3000, 3500, 4000, 4500, 5000]"
   ]
  },
  {
   "cell_type": "code",
   "execution_count": 35,
   "metadata": {},
   "outputs": [
    {
     "name": "stdout",
     "output_type": "stream",
     "text": [
      "energy 100\n"
     ]
    },
    {
     "name": "stderr",
     "output_type": "stream",
     "text": [
      "100%|██████████| 50/50 [01:28<00:00,  1.76s/it]\n"
     ]
    },
    {
     "name": "stdout",
     "output_type": "stream",
     "text": [
      "energy 500\n"
     ]
    },
    {
     "name": "stderr",
     "output_type": "stream",
     "text": [
      "100%|██████████| 50/50 [01:29<00:00,  1.79s/it]\n"
     ]
    },
    {
     "name": "stdout",
     "output_type": "stream",
     "text": [
      "energy 1000\n"
     ]
    },
    {
     "name": "stderr",
     "output_type": "stream",
     "text": [
      "100%|██████████| 50/50 [01:28<00:00,  1.77s/it]\n"
     ]
    },
    {
     "name": "stdout",
     "output_type": "stream",
     "text": [
      "energy 1500\n"
     ]
    },
    {
     "name": "stderr",
     "output_type": "stream",
     "text": [
      "100%|██████████| 50/50 [01:28<00:00,  1.77s/it]\n"
     ]
    },
    {
     "name": "stdout",
     "output_type": "stream",
     "text": [
      "energy 2000\n"
     ]
    },
    {
     "name": "stderr",
     "output_type": "stream",
     "text": [
      "100%|██████████| 50/50 [01:28<00:00,  1.76s/it]\n"
     ]
    },
    {
     "name": "stdout",
     "output_type": "stream",
     "text": [
      "energy 2500\n"
     ]
    },
    {
     "name": "stderr",
     "output_type": "stream",
     "text": [
      "100%|██████████| 50/50 [01:27<00:00,  1.76s/it]\n"
     ]
    },
    {
     "name": "stdout",
     "output_type": "stream",
     "text": [
      "energy 3000\n"
     ]
    },
    {
     "name": "stderr",
     "output_type": "stream",
     "text": [
      "100%|██████████| 50/50 [01:27<00:00,  1.76s/it]\n"
     ]
    },
    {
     "name": "stdout",
     "output_type": "stream",
     "text": [
      "energy 3500\n"
     ]
    },
    {
     "name": "stderr",
     "output_type": "stream",
     "text": [
      "100%|██████████| 50/50 [01:28<00:00,  1.76s/it]\n"
     ]
    },
    {
     "name": "stdout",
     "output_type": "stream",
     "text": [
      "energy 4000\n"
     ]
    },
    {
     "name": "stderr",
     "output_type": "stream",
     "text": [
      "100%|██████████| 50/50 [01:28<00:00,  1.76s/it]\n"
     ]
    },
    {
     "name": "stdout",
     "output_type": "stream",
     "text": [
      "energy 4500\n"
     ]
    },
    {
     "name": "stderr",
     "output_type": "stream",
     "text": [
      "100%|██████████| 50/50 [01:28<00:00,  1.76s/it]\n"
     ]
    },
    {
     "name": "stdout",
     "output_type": "stream",
     "text": [
      "energy 5000\n"
     ]
    },
    {
     "name": "stderr",
     "output_type": "stream",
     "text": [
      "100%|██████████| 50/50 [01:27<00:00,  1.74s/it]\n"
     ]
    }
   ],
   "source": [
    "for energy_kelvin in energies:\n",
    "    print(\"energy\", energy_kelvin)\n",
    "    j_init = 0\n",
    "    omega_init = 0\n",
    "    losses = CumulativeLosses(j_init, energy_kelvin)\n",
    "\n",
    "    for j_tot in tqdm(losses.j_totals):\n",
    "        propagation = prepare(j_init, omega_init, j_tot, energy_kelvin=energy_kelvin)\n",
    "        propagation.propagate()\n",
    "        losses.extract_loss(propagation)\n",
    "    losses.save_losses(f\"losses_{energy_kelvin}_{j_init}_{omega_init}\")"
   ]
  },
  {
   "cell_type": "code",
   "execution_count": 36,
   "metadata": {},
   "outputs": [
    {
     "name": "stdout",
     "output_type": "stream",
     "text": [
      "energy 100\n"
     ]
    },
    {
     "name": "stderr",
     "output_type": "stream",
     "text": [
      "100%|██████████| 50/50 [01:26<00:00,  1.72s/it]\n"
     ]
    },
    {
     "name": "stdout",
     "output_type": "stream",
     "text": [
      "energy 500\n"
     ]
    },
    {
     "name": "stderr",
     "output_type": "stream",
     "text": [
      "100%|██████████| 50/50 [01:26<00:00,  1.73s/it]\n"
     ]
    },
    {
     "name": "stdout",
     "output_type": "stream",
     "text": [
      "energy 1000\n"
     ]
    },
    {
     "name": "stderr",
     "output_type": "stream",
     "text": [
      "100%|██████████| 50/50 [01:27<00:00,  1.75s/it]\n"
     ]
    },
    {
     "name": "stdout",
     "output_type": "stream",
     "text": [
      "energy 1500\n"
     ]
    },
    {
     "name": "stderr",
     "output_type": "stream",
     "text": [
      "100%|██████████| 50/50 [01:28<00:00,  1.76s/it]\n"
     ]
    },
    {
     "name": "stdout",
     "output_type": "stream",
     "text": [
      "energy 2000\n"
     ]
    },
    {
     "name": "stderr",
     "output_type": "stream",
     "text": [
      "100%|██████████| 50/50 [01:26<00:00,  1.74s/it]\n"
     ]
    },
    {
     "name": "stdout",
     "output_type": "stream",
     "text": [
      "energy 2500\n"
     ]
    },
    {
     "name": "stderr",
     "output_type": "stream",
     "text": [
      "100%|██████████| 50/50 [01:25<00:00,  1.72s/it]\n"
     ]
    },
    {
     "name": "stdout",
     "output_type": "stream",
     "text": [
      "energy 3000\n"
     ]
    },
    {
     "name": "stderr",
     "output_type": "stream",
     "text": [
      "100%|██████████| 50/50 [01:26<00:00,  1.72s/it]\n"
     ]
    },
    {
     "name": "stdout",
     "output_type": "stream",
     "text": [
      "energy 3500\n"
     ]
    },
    {
     "name": "stderr",
     "output_type": "stream",
     "text": [
      "100%|██████████| 50/50 [01:26<00:00,  1.73s/it]\n"
     ]
    },
    {
     "name": "stdout",
     "output_type": "stream",
     "text": [
      "energy 4000\n"
     ]
    },
    {
     "name": "stderr",
     "output_type": "stream",
     "text": [
      "100%|██████████| 50/50 [01:26<00:00,  1.72s/it]\n"
     ]
    },
    {
     "name": "stdout",
     "output_type": "stream",
     "text": [
      "energy 4500\n"
     ]
    },
    {
     "name": "stderr",
     "output_type": "stream",
     "text": [
      "100%|██████████| 50/50 [01:26<00:00,  1.73s/it]\n"
     ]
    },
    {
     "name": "stdout",
     "output_type": "stream",
     "text": [
      "energy 5000\n"
     ]
    },
    {
     "name": "stderr",
     "output_type": "stream",
     "text": [
      "100%|██████████| 50/50 [01:26<00:00,  1.73s/it]\n"
     ]
    }
   ],
   "source": [
    "for energy_kelvin in energies:\n",
    "    print(\"energy\", energy_kelvin)\n",
    "    j_init = 1\n",
    "    omega_init = 0\n",
    "    losses = CumulativeLosses(j_init, energy_kelvin)\n",
    "\n",
    "    for j_tot in tqdm(losses.j_totals):\n",
    "        propagation = prepare(j_init, omega_init, j_tot, energy_kelvin=energy_kelvin)\n",
    "        propagation.propagate()\n",
    "        losses.extract_loss(propagation)\n",
    "    losses.save_losses(f\"losses_{energy_kelvin}_{j_init}_{omega_init}\")"
   ]
  },
  {
   "cell_type": "code",
   "execution_count": 37,
   "metadata": {},
   "outputs": [
    {
     "name": "stdout",
     "output_type": "stream",
     "text": [
      "energy 100\n"
     ]
    },
    {
     "name": "stderr",
     "output_type": "stream",
     "text": [
      "100%|██████████| 50/50 [01:27<00:00,  1.76s/it]\n"
     ]
    },
    {
     "name": "stdout",
     "output_type": "stream",
     "text": [
      "energy 500\n"
     ]
    },
    {
     "name": "stderr",
     "output_type": "stream",
     "text": [
      "100%|██████████| 50/50 [01:27<00:00,  1.75s/it]\n"
     ]
    },
    {
     "name": "stdout",
     "output_type": "stream",
     "text": [
      "energy 1000\n"
     ]
    },
    {
     "name": "stderr",
     "output_type": "stream",
     "text": [
      "100%|██████████| 50/50 [01:28<00:00,  1.76s/it]\n"
     ]
    },
    {
     "name": "stdout",
     "output_type": "stream",
     "text": [
      "energy 1500\n"
     ]
    },
    {
     "name": "stderr",
     "output_type": "stream",
     "text": [
      "100%|██████████| 50/50 [01:27<00:00,  1.74s/it]\n"
     ]
    },
    {
     "name": "stdout",
     "output_type": "stream",
     "text": [
      "energy 2000\n"
     ]
    },
    {
     "name": "stderr",
     "output_type": "stream",
     "text": [
      "100%|██████████| 50/50 [01:26<00:00,  1.72s/it]\n"
     ]
    },
    {
     "name": "stdout",
     "output_type": "stream",
     "text": [
      "energy 2500\n"
     ]
    },
    {
     "name": "stderr",
     "output_type": "stream",
     "text": [
      "100%|██████████| 50/50 [01:26<00:00,  1.72s/it]\n"
     ]
    },
    {
     "name": "stdout",
     "output_type": "stream",
     "text": [
      "energy 3000\n"
     ]
    },
    {
     "name": "stderr",
     "output_type": "stream",
     "text": [
      "100%|██████████| 50/50 [01:26<00:00,  1.73s/it]\n"
     ]
    },
    {
     "name": "stdout",
     "output_type": "stream",
     "text": [
      "energy 3500\n"
     ]
    },
    {
     "name": "stderr",
     "output_type": "stream",
     "text": [
      "100%|██████████| 50/50 [01:26<00:00,  1.74s/it]\n"
     ]
    },
    {
     "name": "stdout",
     "output_type": "stream",
     "text": [
      "energy 4000\n"
     ]
    },
    {
     "name": "stderr",
     "output_type": "stream",
     "text": [
      "100%|██████████| 50/50 [01:26<00:00,  1.73s/it]\n"
     ]
    },
    {
     "name": "stdout",
     "output_type": "stream",
     "text": [
      "energy 4500\n"
     ]
    },
    {
     "name": "stderr",
     "output_type": "stream",
     "text": [
      "100%|██████████| 50/50 [01:26<00:00,  1.73s/it]\n"
     ]
    },
    {
     "name": "stdout",
     "output_type": "stream",
     "text": [
      "energy 5000\n"
     ]
    },
    {
     "name": "stderr",
     "output_type": "stream",
     "text": [
      "100%|██████████| 50/50 [01:27<00:00,  1.75s/it]\n"
     ]
    }
   ],
   "source": [
    "for energy_kelvin in energies:\n",
    "    print(\"energy\", energy_kelvin)\n",
    "    j_init = 1\n",
    "    omega_init = 1\n",
    "    losses = CumulativeLosses(j_init, energy_kelvin)\n",
    "\n",
    "    for j_tot in tqdm(losses.j_totals):\n",
    "        propagation = prepare(j_init, omega_init, j_tot, energy_kelvin=energy_kelvin)\n",
    "        propagation.propagate()\n",
    "        losses.extract_loss(propagation)\n",
    "    losses.save_losses(f\"losses_{energy_kelvin}_{j_init}_{omega_init}\")"
   ]
  },
  {
   "cell_type": "code",
   "execution_count": 42,
   "metadata": {},
   "outputs": [
    {
     "name": "stdout",
     "output_type": "stream",
     "text": [
      "3700\n"
     ]
    }
   ],
   "source": [
    "import inspect\n",
    "\n",
    "print(inspect.signature(prepare).parameters.get(\"energy_kelvin\").default)\n"
   ]
  }
 ],
 "metadata": {
  "kernelspec": {
   "display_name": "Python 3",
   "language": "python",
   "name": "python3"
  },
  "language_info": {
   "codemirror_mode": {
    "name": "ipython",
    "version": 3
   },
   "file_extension": ".py",
   "mimetype": "text/x-python",
   "name": "python",
   "nbconvert_exporter": "python",
   "pygments_lexer": "ipython3",
   "version": "3.12.0"
  }
 },
 "nbformat": 4,
 "nbformat_minor": 2
}
